{
 "cells": [
  {
   "cell_type": "code",
   "execution_count": 527,
   "metadata": {},
   "outputs": [
    {
     "name": "stdout",
     "output_type": "stream",
     "text": [
      "[[   0.     0.    -2.5    3.5]\n",
      " [   0.     0.    -2.5 -100. ]\n",
      " [   0.     0.  -100.     3.5]\n",
      " [   0.     0.  -100.  -100. ]\n",
      " [   0.  -100.    -2.5    3.5]\n",
      " [   0.  -100.    -2.5 -100. ]\n",
      " [   0.  -100.  -100.     3.5]\n",
      " [   0.  -100.  -100.  -100. ]\n",
      " [-100.     0.    -2.5    3.5]\n",
      " [-100.     0.    -2.5 -100. ]\n",
      " [-100.     0.  -100.     3.5]\n",
      " [-100.     0.  -100.  -100. ]\n",
      " [-100.  -100.    -2.5    3.5]\n",
      " [-100.  -100.    -2.5 -100. ]\n",
      " [-100.  -100.  -100.     3.5]\n",
      " [-100.  -100.  -100.  -100. ]]\n"
     ]
    }
   ],
   "source": [
    "import numpy as np\n",
    "import random\n",
    "\n",
    "\n",
    "\n",
    "def get_state_obstacle(x, y):\n",
    "    if y == 5:\n",
    "        up = 1\n",
    "    elif W[x][y + 1] == 1:\n",
    "        up = 1\n",
    "    else:\n",
    "        up = 0\n",
    "    if y == 0:\n",
    "        down = 1\n",
    "    elif W[x][y - 1] == 1:\n",
    "        down = 1\n",
    "    else:\n",
    "        down = 0\n",
    "    if x == 0:\n",
    "        left = 1\n",
    "    elif W[x - 1][y] == 1:\n",
    "        left = 1\n",
    "    else:\n",
    "        left = 0\n",
    "    if x == 24:\n",
    "        right = 1\n",
    "    elif W[x + 1][y] == 1:\n",
    "        right = 1\n",
    "    else:\n",
    "        right = 0\n",
    "    \n",
    "    return int(up * 8 + down * 4 + left * 2 + right)\n",
    "\n",
    "\n",
    "\n",
    "def random_sidewalk(x, y):\n",
    "    W = np.zeros((x, y))\n",
    "    o_list = []\n",
    "    for i in range(1, x):\n",
    "        for j in range(y):\n",
    "            temp = random.randint(1, 5)\n",
    "            if temp == 1:\n",
    "                W[i][j] = 1\n",
    "                o_list.append([i, j])\n",
    "    return W, o_list\n",
    "    \n",
    "def R_generation(s, a):\n",
    "    R = np.zeros((s, a))\n",
    "    for i in range(s):\n",
    "        temp = i\n",
    "        for j in range(a):\n",
    "            dire = temp % 2 #right left down up\n",
    "            if dire == 1:\n",
    "                R[i][3 - j] -= 10\n",
    "            else:\n",
    "                if j == 0:\n",
    "                    R[i][3 - j] += 3.5\n",
    "                if j == 1:\n",
    "                    R[i][3 - j] -= 2.5\n",
    "            temp = int(temp / 2)\n",
    "    return R\n",
    "        \n",
    "        \n",
    "        \n",
    "# Initialize matrix Q to zero\n",
    "m = 6\n",
    "n = 25\n",
    "\n",
    "s = 2 * 2 * 2 * 2\n",
    "a = 4\n",
    "\n",
    "\n",
    "W, o_list = random_sidewalk(n, m)\n",
    "R = R_generation(s, a)\n",
    "R_obstacle = R\n",
    "print(R)"
   ]
  },
  {
   "cell_type": "code",
   "execution_count": 52,
   "metadata": {},
   "outputs": [],
   "source": [
    "import matplotlib.pyplot as plt\n",
    "\n",
    "def plot_sidewalk(o_list):\n",
    "    plt.figure(figsize = (10, 2))\n",
    "    for i in o_list:\n",
    "        plt.plot(i[0], i[1], 'ro')\n",
    "    plt.axis([-1, n, -1, m])\n",
    "    plt.xticks(np.arange(-1, n, 1))\n",
    "    plt.yticks(np.arange(-1, m, 1))\n",
    "    plt.plot(range(0, n), np.zeros(n), color='black')\n",
    "    plt.plot(np.zeros(m), range(0, m), color='black')\n",
    "    plt.plot(range(0, n), np.full(n, m - 1), color='black')\n",
    "    plt.plot(np.full(m, n - 1), range(0, m), color='black')\n",
    "    plt.grid(True)\n",
    "    plt.show()"
   ]
  },
  {
   "cell_type": "code",
   "execution_count": 55,
   "metadata": {
    "scrolled": true
   },
   "outputs": [
    {
     "data": {
      "image/png": "[encoded data removed]",
      "text/plain": [
       "<Figure size 720x144 with 1 Axes>"
      ]
     },
     "metadata": {
      "needs_background": "light"
     },
     "output_type": "display_data"
    }
   ],
   "source": [
    "plot_sidewalk(o_list)"
   ]
  },
  {
   "cell_type": "code",
   "execution_count": 69,
   "metadata": {},
   "outputs": [],
   "source": [
    "epsilon = 0.1\n",
    "alpha = 0.5\n",
    "gamma = 0.9"
   ]
  },
  {
   "cell_type": "code",
   "execution_count": 440,
   "metadata": {},
   "outputs": [],
   "source": [
    "directions = [[0, 1], [0, -1], [-1, 0], [1, 0]]\n",
    "\n",
    "def epsilon_greedy(x, y, s, Q):\n",
    "    if random.random() < epsilon:\n",
    "        # randomly pick an a\n",
    "        a_x, a_y, a = rand_helper(x, y)\n",
    "        while a_x < 0 or a_x > n - 1 or a_y <0 or a_y > m - 1:\n",
    "            a_x, a_y, a = rand_helper(x, y)\n",
    "    else:\n",
    "        maxQ = -float(\"inf\")\n",
    "        a_x = x\n",
    "        a_y = y\n",
    "        a = -1\n",
    "        for i in range(4):\n",
    "            temp_x = x + directions[i][0]\n",
    "            temp_y = y + directions[i][1]\n",
    "            if temp_x >= 0 and temp_x <= n - 1 and temp_y >= 0 and temp_y <= m - 1:\n",
    "                temp_Q = Q[s][i]\n",
    "                if maxQ < temp_Q:\n",
    "                    maxQ = temp_Q\n",
    "                    a_x = temp_x\n",
    "                    a_y = temp_y\n",
    "                    a = i\n",
    "    return a_x, a_y, a\n",
    "                \n",
    "        \n",
    "    \n",
    "def rand_helper(x, y):        \n",
    "    ran = random.randint(0, 3)\n",
    "    a_x = x + directions[ran][0]\n",
    "    a_y = y + directions[ran][1]\n",
    "    return a_x, a_y, ran\n"
   ]
  },
  {
   "cell_type": "code",
   "execution_count": 441,
   "metadata": {},
   "outputs": [],
   "source": [
    "import matplotlib.pyplot as plt\n",
    "#each episode\n",
    "def Q_learning(init_x, init_y, Q):\n",
    "    #randomly select an initial state among the whole map\n",
    "    x = init_x\n",
    "    y = init_y    \n",
    "    s = get_state_obstacle(x, y)\n",
    "    path = []\n",
    "    for i in range(1000):\n",
    "        x, y, s, path = Q_update(x, y, s, path, Q)\n",
    "        if x == 24:\n",
    "            break\n",
    "    #normalize the matrix Q\n",
    "    Q = normalizeRows(Q)\n",
    "    return path\n",
    "        \n",
    "\n",
    "def Q_update(x, y, s, path, Q):\n",
    "    if x == 24:\n",
    "        return\n",
    "    #using the epsilon-greedy strategy to pick an action a\n",
    "    a_x, a_y, a = epsilon_greedy(x, y, s, Q)        \n",
    "\n",
    "    #using action a to determine next state s’.\n",
    "    sp = get_state_obstacle(a_x, a_y)\n",
    "\n",
    "    #update Q value: Q(s,a) = (1 − α) * Q(s, a) + α * (R(x, y,a) + γ * max(Q(s′,:)));\n",
    "    maxQp = -float(\"inf\")\n",
    "    for i in range(4):\n",
    "        if Q[sp][i] > maxQp:\n",
    "            maxQp = Q[sp][i]\n",
    "    Q[s][a] = (1 - alpha) * Q[s][a] + alpha * (R[s][a] + gamma * maxQp)\n",
    "    \n",
    "    #set the next state as the current state.\n",
    "    s = sp\n",
    "    path.append([[x, y], [a_x, a_y]])\n",
    "    return a_x, a_y, s, path\n",
    "\n",
    "def normalizeRows(M):\n",
    "    row_sums = M.sum(axis=1)\n",
    "    for i in range(len(row_sums)):\n",
    "        if row_sums[i] != 0:\n",
    "            M[i] /= row_sums[i]\n",
    "    return M"
   ]
  },
  {
   "cell_type": "code",
   "execution_count": 458,
   "metadata": {},
   "outputs": [],
   "source": [
    "def plot_path(path):\n",
    "    plt.figure(figsize = (10, 2))\n",
    "    for i in o_list:\n",
    "        plt.plot(i[0], i[1], 'ro', label=\"Obstacles\")\n",
    "    for i in range(len(path)):\n",
    "        p = path[i]\n",
    "        plt.plot([p[0][0], p[1][0]], [p[0][1], p[1][1]], 'b-', label=\"Path\")\n",
    "        #plt.scatter([p[0][0], p[1][0]], [p[0][1], p[1][1]], color='b', s = 10 )\n",
    "    plt.axis([-1, n, -1, m])\n",
    "    plt.xticks(np.arange(-1, n, 1))\n",
    "    plt.yticks(np.arange(-1, m, 1))\n",
    "    plt.plot(range(0, n), np.zeros(n), color='black')\n",
    "    plt.plot(np.zeros(m), range(0, m), color='black')\n",
    "    plt.plot(range(0, n), np.full(n, m - 1), color='black')\n",
    "    plt.plot(np.full(m, n - 1), range(0, m), color='black')\n",
    "    plt.grid(True)\n",
    "\n",
    "    #plt.title(\"Obstacle-only Learning\")\n",
    "    plt.title(\"Litter-only Learning\")\n",
    "    plt.show()"
   ]
  },
  {
   "cell_type": "code",
   "execution_count": 448,
   "metadata": {},
   "outputs": [
    {
     "data": {
      "image/png": "[encoded data removed]",
      "text/plain": [
       "<Figure size 720x144 with 1 Axes>"
      ]
     },
     "metadata": {
      "needs_background": "light"
     },
     "output_type": "display_data"
    }
   ],
   "source": [
    "s = 2 * 2 * 2 * 2\n",
    "a = 4\n",
    "Q_obstacle = np.zeros((s, a))\n",
    "path = Q_learning(0, random.randint(0, m - 1), Q_obstacle)\n",
    "plot_path(path)"
   ]
  },
  {
   "cell_type": "code",
   "execution_count": 167,
   "metadata": {
    "scrolled": true
   },
   "outputs": [
    {
     "data": {
      "image/png": "[encoded data removed]",
      "text/plain": [
       "<Figure size 720x144 with 1 Axes>"
      ]
     },
     "metadata": {
      "needs_background": "light"
     },
     "output_type": "display_data"
    }
   ],
   "source": [
    "plot_path(path)"
   ]
  },
  {
   "cell_type": "code",
   "execution_count": 528,
   "metadata": {},
   "outputs": [],
   "source": [
    "#Train the model\n",
    "s = 2 * 2 * 2 * 2\n",
    "a = 4\n",
    "Q_obstacle = np.zeros((s, a))\n",
    "for episode in range(20000):\n",
    "    x = random.randint(0, n - 2)#anywhere but the terminal\n",
    "    y = random.randint(0, m - 1)\n",
    "    W, o_list = random_sidewalk(n, m)\n",
    "    Q_learning(x, y, Q_obstacle)"
   ]
  },
  {
   "cell_type": "code",
   "execution_count": 453,
   "metadata": {},
   "outputs": [
    {
     "data": {
      "image/png": "[encoded data removed]",
      "text/plain": [
       "<Figure size 720x144 with 1 Axes>"
      ]
     },
     "metadata": {
      "needs_background": "light"
     },
     "output_type": "display_data"
    }
   ],
   "source": [
    "#Give a demo\n",
    "W, o_list = random_sidewalk(n, m)\n",
    "path = Q_learning(0, random.randint(0, m - 1), Q_obstacle)\n",
    "plot_path(path)"
   ]
  },
  {
   "cell_type": "code",
   "execution_count": 454,
   "metadata": {},
   "outputs": [],
   "source": [
    "def Q_learning_pickup(init_x, init_y, Q, W):\n",
    "    #randomly select an initial state among the whole map\n",
    "    x = init_x\n",
    "    y = init_y    \n",
    "    s = get_state_litter(x, y)\n",
    "    path = []\n",
    "    for i in range(1000):\n",
    "        #picking up\n",
    "        if W[x][y] == 1:\n",
    "            W[x][y] = 0\n",
    "        x, y, s, path = Q_update_litter(x, y, s, path, Q)       \n",
    "        if x == 24:\n",
    "            break\n",
    "    #normalize the matrix Q\n",
    "    Q = normalizeRows(Q)\n",
    "    return path\n",
    "\n",
    "def Q_update_litter(x, y, s, path, Q):\n",
    "    if x == 24:\n",
    "        return\n",
    "    #using the epsilon-greedy strategy to pick an action a\n",
    "    a_x, a_y, a = epsilon_greedy(x, y, s, Q)        \n",
    "\n",
    "    #using action a to determine next state s’.\n",
    "    sp = get_state_litter(a_x, a_y)\n",
    "\n",
    "    #update Q value: Q(s,a) = (1 − α) * Q(s, a) + α * (R(x, y,a) + γ * max(Q(s′,:)));\n",
    "    maxQp = -float(\"inf\")\n",
    "    for i in range(4):\n",
    "        if Q[sp][i] > maxQp:\n",
    "            maxQp = Q[sp][i]\n",
    "    Q[s][a] = (1 - alpha) * Q[s][a] + alpha * (R[s][a] + gamma * maxQp)\n",
    "    \n",
    "    #set the next state as the current state.\n",
    "    s = sp\n",
    "    path.append([[x, y], [a_x, a_y]])\n",
    "    return a_x, a_y, s, path"
   ]
  },
  {
   "cell_type": "code",
   "execution_count": 529,
   "metadata": {},
   "outputs": [],
   "source": [
    "#Pick up litter\n",
    "\n",
    "def R_litter(s, a):\n",
    "    R = np.zeros((s, a))\n",
    "    for i in range(s):\n",
    "        temp = i\n",
    "        for j in range(a):\n",
    "            dire = temp % 2 #right left down up\n",
    "            if dire == 1:\n",
    "                R[i][3 - j] += 100\n",
    "            else:\n",
    "                if j == 0:\n",
    "                    R[i][3 - j] += 3.5\n",
    "                if j == 1:\n",
    "                    R[i][3 - j] -= 2.5\n",
    "            temp = int(temp / 2)\n",
    "    return R\n",
    "\n",
    "def get_state_litter(x, y):\n",
    "    if y == 5:\n",
    "        up = 0\n",
    "    else:\n",
    "        up = W[x][y + 1]\n",
    "    if y == 0:\n",
    "        down = 0\n",
    "    else:\n",
    "        down = W[x][y - 1]\n",
    "    if x == 0:\n",
    "        left = 0\n",
    "    else:\n",
    "        left = W[x - 1][y]\n",
    "    if x == 24:\n",
    "        right = 0\n",
    "    else:\n",
    "        right = W[x + 1][y]\n",
    "    \n",
    "    return int(up * 8 + down * 4 + left * 2 + right)\n",
    "\n",
    " \n",
    "s = 2 * 2 * 2 * 2\n",
    "a = 4\n",
    "R = R_litter(s, a)\n",
    "R_lit = R\n",
    "Q_litter = np.zeros((s, a))\n",
    "\n",
    "for episode in range(20000):\n",
    "    x = random.randint(0, n - 2)#anywhere but the terminal\n",
    "    y = random.randint(0, m - 1)\n",
    "    W, o_list = random_sidewalk(n, m)\n",
    "    Q_learning_pickup(x, y, Q_litter, W)"
   ]
  },
  {
   "cell_type": "code",
   "execution_count": 605,
   "metadata": {},
   "outputs": [
    {
     "name": "stdout",
     "output_type": "stream",
     "text": [
      "[[  0.    0.   -2.5   3.5]\n",
      " [  0.    0.   -2.5 100. ]\n",
      " [  0.    0.  100.    3.5]\n",
      " [  0.    0.  100.  100. ]\n",
      " [  0.  100.   -2.5   3.5]\n",
      " [  0.  100.   -2.5 100. ]\n",
      " [  0.  100.  100.    3.5]\n",
      " [  0.  100.  100.  100. ]\n",
      " [100.    0.   -2.5   3.5]\n",
      " [100.    0.   -2.5 100. ]\n",
      " [100.    0.  100.    3.5]\n",
      " [100.    0.  100.  100. ]\n",
      " [100.  100.   -2.5   3.5]\n",
      " [100.  100.   -2.5 100. ]\n",
      " [100.  100.  100.    3.5]\n",
      " [100.  100.  100.  100. ]]\n"
     ]
    }
   ],
   "source": [
    "print(R_lit)"
   ]
  },
  {
   "cell_type": "code",
   "execution_count": 461,
   "metadata": {},
   "outputs": [
    {
     "data": {
      "image/png": "[encoded data removed]",
      "text/plain": [
       "<Figure size 720x144 with 1 Axes>"
      ]
     },
     "metadata": {
      "needs_background": "light"
     },
     "output_type": "display_data"
    }
   ],
   "source": [
    "W, o_list = random_sidewalk(n, m)\n",
    "path = Q_learning_pickup(0, random.randint(0, m - 1), Q_litter, W)\n",
    "plot_path(path)"
   ]
  },
  {
   "cell_type": "code",
   "execution_count": 530,
   "metadata": {},
   "outputs": [],
   "source": [
    "# Go down the sidewalk\n",
    "def R_godown(s, a):\n",
    "    R = np.zeros((s, a))\n",
    "    for i in range(s):\n",
    "        temp = i\n",
    "        for j in range(a):\n",
    "            dire = temp % 2 #right left down up\n",
    "            if dire == 1 and j == 0:\n",
    "                R[i][3 - j] += 100\n",
    "            else:\n",
    "                if j == 0:\n",
    "                    R[i][3 - j] += 3.5\n",
    "                if j == 1:\n",
    "                    R[i][3 - j] -= 2.5\n",
    "                if j > 1:\n",
    "                    R[i][3 - j] -= 1\n",
    "            temp = int(temp / 2)\n",
    "    return R\n",
    "\n",
    "def get_state_godown(x, y):\n",
    "    up = 0\n",
    "    down = 0\n",
    "    left = 0\n",
    "    if x >= 23:\n",
    "        right = 1\n",
    "    else:\n",
    "        right = 0\n",
    "    \n",
    "    return int(up * 8 + down * 4 + left * 2 + right)\n",
    "\n",
    "def Q_learning_godown(init_x, init_y, Q):\n",
    "    #randomly select an initial state among the whole map\n",
    "    x = init_x\n",
    "    y = init_y    \n",
    "    s = get_state_godown(x, y)\n",
    "    path = []\n",
    "    for i in range(1000):\n",
    "        x, y, s, path = Q_update(x, y, s, path, Q)\n",
    "        if x == 24:\n",
    "            break\n",
    "    #normalize the matrix Q\n",
    "    Q = normalizeRows(Q)\n",
    "    return path\n",
    "        \n",
    "def Q_update_godown(x, y, s, path, Q):\n",
    "    if x == 24:\n",
    "        return\n",
    "    #using the epsilon-greedy strategy to pick an action a\n",
    "    a_x, a_y, a = epsilon_greedy(x, y, s, Q)        \n",
    "\n",
    "    #using action a to determine next state s’.\n",
    "    sp = get_state_godown(a_x, a_y)\n",
    "\n",
    "    #update Q value: Q(s,a) = (1 − α) * Q(s, a) + α * (R(x, y,a) + γ * max(Q(s′,:)));\n",
    "    maxQp = -float(\"inf\")\n",
    "    for i in range(4):\n",
    "        if Q[sp][i] > maxQp:\n",
    "            maxQp = Q[sp][i]\n",
    "    Q[s][a] = (1 - alpha) * Q[s][a] + alpha * (R[s][a] + gamma * maxQp)\n",
    "    \n",
    "    #set the next state as the current state.\n",
    "    s = sp\n",
    "    path.append([[x, y], [a_x, a_y]])\n",
    "    return a_x, a_y, s, path\n",
    "\n",
    "s = 2 * 2 * 2 * 2\n",
    "a = 4\n",
    "R = R_godown(s, a)\n",
    "R_god = R\n",
    "Q_godown = np.zeros((s, a))\n",
    "\n",
    "for episode in range(20000):\n",
    "    x = random.randint(0, n - 2)#anywhere but the terminal\n",
    "    y = random.randint(0, m - 1)\n",
    "    W, o_list = random_sidewalk(n, m)\n",
    "    Q_learning_godown(x, y, Q_godown)"
   ]
  },
  {
   "cell_type": "code",
   "execution_count": 606,
   "metadata": {},
   "outputs": [
    {
     "name": "stdout",
     "output_type": "stream",
     "text": [
      "[[ -1.   -1.   -2.5   3.5]\n",
      " [ -1.   -1.   -2.5 100. ]\n",
      " [ -1.   -1.   -2.5   3.5]\n",
      " [ -1.   -1.   -2.5 100. ]\n",
      " [ -1.   -1.   -2.5   3.5]\n",
      " [ -1.   -1.   -2.5 100. ]\n",
      " [ -1.   -1.   -2.5   3.5]\n",
      " [ -1.   -1.   -2.5 100. ]\n",
      " [ -1.   -1.   -2.5   3.5]\n",
      " [ -1.   -1.   -2.5 100. ]\n",
      " [ -1.   -1.   -2.5   3.5]\n",
      " [ -1.   -1.   -2.5 100. ]\n",
      " [ -1.   -1.   -2.5   3.5]\n",
      " [ -1.   -1.   -2.5 100. ]\n",
      " [ -1.   -1.   -2.5   3.5]\n",
      " [ -1.   -1.   -2.5 100. ]]\n"
     ]
    }
   ],
   "source": [
    "print(R_god)"
   ]
  },
  {
   "cell_type": "code",
   "execution_count": 480,
   "metadata": {},
   "outputs": [],
   "source": [
    "def plot_path_only(path):\n",
    "    plt.figure(figsize = (10, 2))\n",
    "    #for i in o_list:\n",
    "        #plt.plot(i[0], i[1], 'ro', label=\"Obstacles\")\n",
    "    for i in range(len(path)):\n",
    "        p = path[i]\n",
    "        plt.plot([p[0][0], p[1][0]], [p[0][1], p[1][1]], 'b-')\n",
    "        #plt.scatter([p[0][0], p[1][0]], [p[0][1], p[1][1]], color='b', s = 10 )\n",
    "    #for i in range(m):\n",
    "        #plt.scatter([24], [i], 'ro')\n",
    "    plt.axis([-1, n, -1, m])\n",
    "    plt.xticks(np.arange(-1, n, 1))\n",
    "    plt.yticks(np.arange(-1, m, 1))\n",
    "    plt.plot(range(0, n), np.zeros(n), color='black')\n",
    "    plt.plot(np.zeros(m), range(0, m), color='black')\n",
    "    plt.plot(range(0, n), np.full(n, m - 1), color='black')\n",
    "    plt.plot(np.full(m, n - 1), range(0, m), color='black')\n",
    "    plt.grid(True)\n",
    "\n",
    "    plt.title(\"Staying in Sidewalk Learning\")\n",
    "    #plt.title(\"Going Down Learning\")\n",
    "    plt.show()"
   ]
  },
  {
   "cell_type": "code",
   "execution_count": 478,
   "metadata": {},
   "outputs": [
    {
     "data": {
      "image/png": "[encoded data removed]",
      "text/plain": [
       "<Figure size 720x144 with 1 Axes>"
      ]
     },
     "metadata": {
      "needs_background": "light"
     },
     "output_type": "display_data"
    }
   ],
   "source": [
    "W, o_list = random_sidewalk(n, m)\n",
    "path = Q_learning_godown(0, random.randint(0, m - 1), Q_godown)\n",
    "plot_path_only(path)"
   ]
  },
  {
   "cell_type": "code",
   "execution_count": 531,
   "metadata": {},
   "outputs": [],
   "source": [
    "# Stay in the sidewalk\n",
    "def R_stay(s, a):\n",
    "    R = np.zeros((s, a))\n",
    "    for i in range(s):\n",
    "        temp = i\n",
    "        for j in range(a):\n",
    "            dire = temp % 2 #right left down up\n",
    "            if dire == 1 and j > 1:\n",
    "                R[i][3 - j] -= 100\n",
    "            else:\n",
    "                if j == 0:\n",
    "                    R[i][3 - j] += 3.5\n",
    "                if j == 1:\n",
    "                    R[i][3 - j] -= 2.5\n",
    "            temp = int(temp / 2)\n",
    "    return R\n",
    "\n",
    "def get_state_stay(x, y):\n",
    "    if y >= 4:\n",
    "        up = 1\n",
    "    else:\n",
    "        up = 0\n",
    "    if y <= 1:\n",
    "        down = 1\n",
    "    else:\n",
    "        down = 0\n",
    "    left = 0\n",
    "    right = 0\n",
    "    if y == 5 or y == 0:\n",
    "        left = 1\n",
    "        right = 1   \n",
    "    return int(up * 8 + down * 4 + left * 2 + right)\n",
    "\n",
    "def Q_learning_stay(init_x, init_y, Q):\n",
    "    #randomly select an initial state among the whole map\n",
    "    x = init_x\n",
    "    y = init_y    \n",
    "    s = get_state_stay(x, y)\n",
    "    path = []\n",
    "    for i in range(1000):\n",
    "        x, y, s, path = Q_update_stay(x, y, s, path, Q)\n",
    "        if x == 24:\n",
    "            break\n",
    "    #normalize the matrix Q\n",
    "    Q = normalizeRows(Q)\n",
    "    return path\n",
    "        \n",
    "def Q_update_stay(x, y, s, path, Q):\n",
    "    if x == 24:\n",
    "        return\n",
    "    #using the epsilon-greedy strategy to pick an action a\n",
    "    a_x, a_y, a = epsilon_greedy(x, y, s, Q)        \n",
    "\n",
    "    #using action a to determine next state s’.\n",
    "    sp = get_state_stay(a_x, a_y)\n",
    "\n",
    "    #update Q value: Q(s,a) = (1 − α) * Q(s, a) + α * (R(x, y,a) + γ * max(Q(s′,:)));\n",
    "    maxQp = -float(\"inf\")\n",
    "    for i in range(4):\n",
    "        if Q[sp][i] > maxQp:\n",
    "            maxQp = Q[sp][i]\n",
    "    Q[s][a] = (1 - alpha) * Q[s][a] + alpha * (R[s][a] + gamma * maxQp)\n",
    "    \n",
    "    #set the next state as the current state.\n",
    "    s = sp\n",
    "    path.append([[x, y], [a_x, a_y]])\n",
    "    return a_x, a_y, s, path\n",
    "\n",
    "s = 2 * 2 * 2 * 2\n",
    "a = 4\n",
    "R = R_stay(s, a)\n",
    "R_sta = R\n",
    "Q_stay = np.zeros((s, a))\n",
    "\n",
    "for episode in range(20000):\n",
    "    x = random.randint(0, n - 2)#anywhere but the terminal\n",
    "    y = random.randint(0, m - 1)\n",
    "    W, o_list = random_sidewalk(n, m)\n",
    "    Q_learning_stay(x, y, Q_stay)"
   ]
  },
  {
   "cell_type": "code",
   "execution_count": 607,
   "metadata": {},
   "outputs": [
    {
     "name": "stdout",
     "output_type": "stream",
     "text": [
      "[[   0.     0.    -2.5    3.5]\n",
      " [   0.     0.    -2.5    3.5]\n",
      " [   0.     0.    -2.5    3.5]\n",
      " [   0.     0.    -2.5    3.5]\n",
      " [   0.  -100.    -2.5    3.5]\n",
      " [   0.  -100.    -2.5    3.5]\n",
      " [   0.  -100.    -2.5    3.5]\n",
      " [   0.  -100.    -2.5    3.5]\n",
      " [-100.     0.    -2.5    3.5]\n",
      " [-100.     0.    -2.5    3.5]\n",
      " [-100.     0.    -2.5    3.5]\n",
      " [-100.     0.    -2.5    3.5]\n",
      " [-100.  -100.    -2.5    3.5]\n",
      " [-100.  -100.    -2.5    3.5]\n",
      " [-100.  -100.    -2.5    3.5]\n",
      " [-100.  -100.    -2.5    3.5]]\n"
     ]
    }
   ],
   "source": [
    "print(R_sta)"
   ]
  },
  {
   "cell_type": "code",
   "execution_count": 486,
   "metadata": {},
   "outputs": [
    {
     "data": {
      "image/png": "[encoded data removed]",
      "text/plain": [
       "<Figure size 720x144 with 1 Axes>"
      ]
     },
     "metadata": {
      "needs_background": "light"
     },
     "output_type": "display_data"
    }
   ],
   "source": [
    "W, o_list = random_sidewalk(n, m)\n",
    "path = Q_learning_stay(0, random.randint(0, m - 1), Q_stay)\n",
    "plot_path_only(path)"
   ]
  },
  {
   "cell_type": "code",
   "execution_count": 506,
   "metadata": {},
   "outputs": [
    {
     "data": {
      "text/plain": [
       "4"
      ]
     },
     "execution_count": 506,
     "metadata": {},
     "output_type": "execute_result"
    }
   ],
   "source": [
    "#Combine the models\n",
    "\n",
    "def combined_sidewalk(x, y):\n",
    "    W = np.zeros((x, y))\n",
    "    o_list = []\n",
    "    l_list = []\n",
    "    for i in range(1, x):\n",
    "        for j in range(y):\n",
    "            temp = random.randint(1, 5)\n",
    "            if temp == 1:\n",
    "                W[i][j] = 1\n",
    "                o_list.append([i, j])\n",
    "            elif temp == 2:\n",
    "                W[i][j] = 2\n",
    "                l_list.append([i, j])\n",
    "    return W, o_list, l_list\n",
    "\n",
    "def get_state_litter_2(x, y):\n",
    "    if y == 5:\n",
    "        up = 0\n",
    "    else:\n",
    "        up = int(W[x][y + 1] / 2)\n",
    "    if y == 0:\n",
    "        down = 0\n",
    "    else:\n",
    "        down = int(W[x][y - 1] / 2)\n",
    "    if x == 0:\n",
    "        left = 0\n",
    "    else:\n",
    "        left = int(W[x - 1][y] / 2)\n",
    "    if x == 24:\n",
    "        right = 0\n",
    "    else:\n",
    "        right = int(W[x + 1][y] / 2)\n",
    "    \n",
    "    return int(up * 8 + down * 4 + left * 2 + right)\n",
    "\n",
    "\n",
    "s = 2 * 2 * 2 * 2\n",
    "a = 4\n",
    "Q_list = []\n",
    "Q_list.append(Q_obstacle)\n",
    "Q_list.append(Q_litter)\n",
    "Q_list.append(Q_godown)\n",
    "Q_list.append(Q_stay)\n",
    "\n"
   ]
  },
  {
   "cell_type": "code",
   "execution_count": 495,
   "metadata": {},
   "outputs": [],
   "source": [
    "def epsilon_greedy_combined(x, y):\n",
    "    if random.random() < epsilon:\n",
    "        # randomly pick an a\n",
    "        a_x, a_y, a = rand_helper(x, y)\n",
    "        while a_x < 0 or a_x > n - 1 or a_y <0 or a_y > m - 1:\n",
    "            a_x, a_y, a = rand_helper(x, y)\n",
    "    else:\n",
    "        maxQ = -float(\"inf\")\n",
    "        a_x = x\n",
    "        a_y = y\n",
    "        a = -1\n",
    "        for i in range(4):\n",
    "            temp_x = x + directions[i][0]\n",
    "            temp_y = y + directions[i][1]\n",
    "            if temp_x >= 0 and temp_x <= n - 1 and temp_y >= 0 and temp_y <= m - 1:\n",
    "                #temp_Q = Q[s][i]\n",
    "                temp_Q = average_Q(x, y, i)\n",
    "                if maxQ < temp_Q:\n",
    "                    maxQ = temp_Q\n",
    "                    a_x = temp_x\n",
    "                    a_y = temp_y\n",
    "                    a = i\n",
    "    return a_x, a_y, a\n",
    "\n",
    "def average_Q(x, y, i):\n",
    "    sumQ = 0\n",
    "    s1 = get_state_obstacle(x, y)\n",
    "    sumQ += Q_list[0][s1][i]\n",
    "    s2 = get_state_litter_2(x, y)\n",
    "    sumQ += Q_list[1][s2][i]\n",
    "    s3 = get_state_godown(x, y)\n",
    "    sumQ += Q_list[2][s3][i]\n",
    "    s4 = get_state_stay(x, y)\n",
    "    sumQ += Q_list[3][s4][i]\n",
    "    \n",
    "    return sumQ / 4\n",
    "    "
   ]
  },
  {
   "cell_type": "code",
   "execution_count": 540,
   "metadata": {},
   "outputs": [],
   "source": [
    "def Q_learning_combined(init_x, init_y, Q_list, W):\n",
    "    #randomly select an initial state among the whole map\n",
    "    x = init_x\n",
    "    y = init_y    \n",
    "    path = []\n",
    "    for i in range(1000):\n",
    "        #picking up\n",
    "        if W[x][y] == 2:\n",
    "            W[x][y] = 0\n",
    "        x, y, path = Q_update_combined(x, y, path, Q_list) \n",
    "        #oldx = x\n",
    "        #oldy = y\n",
    "        #x, y, a = epsilon_greedy_combined(x, y)\n",
    "        #path.append([[oldx, oldy], [x, y]])\n",
    "        if x == 24:\n",
    "            break\n",
    "    #normalize the matrix Q\n",
    "    #Q = normalizeRows(Q)\n",
    "    return path\n",
    "\n",
    "def Q_update_combined(x, y, path, Q_list):\n",
    "    if x == 24:\n",
    "        return\n",
    "    #using the epsilon-greedy strategy to pick an action a\n",
    "    a_x, a_y, a = epsilon_greedy_combined(x, y)        \n",
    "\n",
    "    #1. obstacle\n",
    "    s = get_state_obstacle(x, y)\n",
    "    sp = get_state_obstacle(a_x, a_y)\n",
    "    maxQp = -float(\"inf\")\n",
    "    for i in range(4):\n",
    "        if Q_list[0][sp][i] > maxQp:\n",
    "            maxQp = Q_list[0][sp][i]\n",
    "    Q_list[0][s][a] = (1 - alpha) * Q_list[0][s][a] + alpha * (R_obstacle[s][a] + gamma * maxQp)\n",
    "\n",
    "    #2. litter\n",
    "    s = get_state_litter_2(x, y)\n",
    "    sp = get_state_litter_2(a_x, a_y)\n",
    "    maxQp = -float(\"inf\")\n",
    "    for i in range(4):\n",
    "        if Q_list[1][sp][i] > maxQp:\n",
    "            maxQp = Q_list[1][sp][i]\n",
    "    Q_list[1][s][a] = (1 - alpha) * Q_list[1][s][a] + alpha * (R_lit[s][a] + gamma * maxQp)\n",
    "    \n",
    "    #3. Godown\n",
    "    s = get_state_godown(x, y)\n",
    "    sp = get_state_godown(a_x, a_y)\n",
    "    maxQp = -float(\"inf\")\n",
    "    for i in range(4):\n",
    "        if Q_list[2][sp][i] > maxQp:\n",
    "            maxQp = Q_list[2][sp][i]\n",
    "    Q_list[2][s][a] = (1 - alpha) * Q_list[2][s][a] + alpha * (R_god[s][a] + gamma * maxQp)\n",
    "    \n",
    "    #4. Stay\n",
    "    s = get_state_stay(x, y)\n",
    "    sp = get_state_stay(a_x, a_y)\n",
    "    maxQp = -float(\"inf\")\n",
    "    for i in range(4):\n",
    "        if Q_list[3][sp][i] > maxQp:\n",
    "            maxQp = Q_list[3][sp][i]\n",
    "    Q_list[3][s][a] = (1 - alpha) * Q_list[3][s][a] + alpha * (R_sta[s][a] + gamma * maxQp)\n",
    "    \n",
    "    path.append([[x, y], [a_x, a_y]])\n",
    "    return a_x, a_y, path"
   ]
  },
  {
   "cell_type": "code",
   "execution_count": 518,
   "metadata": {},
   "outputs": [],
   "source": [
    "def plot_combined(path):\n",
    "    plt.figure(figsize = (10, 2))\n",
    "    for i in o_list:\n",
    "        plt.plot(i[0], i[1], 'ro')\n",
    "    for i in l_list:\n",
    "        plt.plot(i[0], i[1], 'go')\n",
    "    for i in range(len(path)):\n",
    "        p = path[i]\n",
    "        plt.plot([p[0][0], p[1][0]], [p[0][1], p[1][1]], 'b-')\n",
    "        #plt.scatter([p[0][0], p[1][0]], [p[0][1], p[1][1]], color='b', s = 10 )\n",
    "    plt.axis([-1, n, -1, m])\n",
    "    plt.xticks(np.arange(-1, n, 1))\n",
    "    plt.yticks(np.arange(-1, m, 1))\n",
    "    plt.plot(range(0, n), np.zeros(n), color='black')\n",
    "    plt.plot(np.zeros(m), range(0, m), color='black')\n",
    "    plt.plot(range(0, n), np.full(n, m - 1), color='black')\n",
    "    plt.plot(np.full(m, n - 1), range(0, m), color='black')\n",
    "    plt.grid(True)\n",
    "\n",
    "    #plt.title(\"Obstacle-only Learning\")\n",
    "    plt.title(\"Combined Learning Models\")\n",
    "    plt.show()"
   ]
  },
  {
   "cell_type": "code",
   "execution_count": 587,
   "metadata": {},
   "outputs": [],
   "source": [
    "for episode in range(200000):\n",
    "    x = random.randint(0, n - 2)#anywhere but the terminal\n",
    "    y = random.randint(0, m - 1)\n",
    "    W, o_list, l_list = combined_sidewalk(n, m)\n",
    "    Q_learning_combined(x, y, Q_list, W)"
   ]
  },
  {
   "cell_type": "code",
   "execution_count": 604,
   "metadata": {},
   "outputs": [
    {
     "data": {
      "image/png": "[encoded data removed]",
      "text/plain": [
       "<Figure size 720x144 with 1 Axes>"
      ]
     },
     "metadata": {
      "needs_background": "light"
     },
     "output_type": "display_data"
    }
   ],
   "source": [
    "W, o_list, l_list = combined_sidewalk(n, m)\n",
    "path = Q_learning_combined(0, random.randint(0, m - 1), Q_list, W)\n",
    "plot_combined(path)"
   ]
  },
  {
   "cell_type": "code",
   "execution_count": null,
   "metadata": {},
   "outputs": [],
   "source": []
  },
  {
   "cell_type": "code",
   "execution_count": null,
   "metadata": {},
   "outputs": [],
   "source": []
  }
 ],
 "metadata": {
  "kernelspec": {
   "display_name": "Python 3",
   "language": "python",
   "name": "python3"
  },
  "language_info": {
   "codemirror_mode": {
    "name": "ipython",
    "version": 3
   },
   "file_extension": ".py",
   "mimetype": "text/x-python",
   "name": "python",
   "nbconvert_exporter": "python",
   "pygments_lexer": "ipython3",
   "version": "3.6.2"
  }
 },
 "nbformat": 4,
 "nbformat_minor": 2
}
